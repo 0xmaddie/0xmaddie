{
  "nbformat": 4,
  "nbformat_minor": 0,
  "metadata": {
    "colab": {
      "private_outputs": true,
      "provenance": [],
      "toc_visible": true
    },
    "kernelspec": {
      "name": "python3",
      "display_name": "Python 3"
    },
    "language_info": {
      "name": "python"
    }
  },
  "cells": [
    {
      "cell_type": "markdown",
      "source": [
        "# ⚙ Setup"
      ],
      "metadata": {
        "id": "zd6eZXPundnl"
      }
    },
    {
      "cell_type": "code",
      "source": [
        "!pip install git+https://github.com/0xmaddie/0xmaddie.git#subdirectory=lisp\n",
        "#!pip install git+https://github.com/0xmaddie/0xmaddie.git#subdirectory=llama\n",
        "#!pip install git+https://github.com/0xmaddie/0xmaddie.git#subdirectory=resonators"
      ],
      "metadata": {
        "id": "eup4lAjtkJis"
      },
      "execution_count": null,
      "outputs": []
    },
    {
      "cell_type": "code",
      "execution_count": null,
      "metadata": {
        "id": "WVoCGy3LnZ5V"
      },
      "outputs": [],
      "source": [
        "import lisp\n",
        "#import llama\n",
        "#import resonators"
      ]
    },
    {
      "cell_type": "markdown",
      "source": [
        "# 🎨 Paint"
      ],
      "metadata": {
        "id": "RQEvHLrZHmvN"
      }
    },
    {
      "cell_type": "markdown",
      "source": [
        "## Color fields\n",
        "\n",
        "\n",
        "\n",
        "Conal Elliott's model of images: a function from infinite 2 dimensional space to colors."
      ],
      "metadata": {
        "id": "Nkoj-7I6FRpQ"
      }
    },
    {
      "cell_type": "code",
      "source": [],
      "metadata": {
        "id": "CluCPUAGFP5j"
      },
      "execution_count": null,
      "outputs": []
    },
    {
      "cell_type": "markdown",
      "source": [
        "## Text-to-image"
      ],
      "metadata": {
        "id": "3xCo6TlrHoNM"
      }
    },
    {
      "cell_type": "markdown",
      "source": [
        "# 👽 Lisp"
      ],
      "metadata": {
        "id": "N5Kgv1RYHTuZ"
      }
    },
    {
      "cell_type": "code",
      "source": [
        "source = f'''\n",
        "(let ((mass     75)\n",
        "      (velocity 15))\n",
        "  (* 0.5 mass (* velocity velocity)))\n",
        "'''.strip()\n",
        "objects = lisp.read(source)\n",
        "target  = lisp.norm(objects[0])\n",
        "print(target)"
      ],
      "metadata": {
        "id": "RAafMDDWjTNH"
      },
      "execution_count": null,
      "outputs": []
    },
    {
      "cell_type": "code",
      "source": [
        "source = f'''\n",
        "(define lambda\n",
        "  (vau xs lexical\n",
        "    (let ((args (fst xs))\n",
        "          (body (snd xs))\n",
        "          (expr (list* vau args :none body)))\n",
        "      (print! args)\n",
        "      (print! body)\n",
        "      (print! expr)\n",
        "      (wrap (eval expr lexical)))))\n",
        "lambda\n",
        "(lambda (x) (* x x))\n",
        "((lambda (x) (* x x)) (* 3 5))\n",
        "'''.strip()\n",
        "objects = lisp.read(source)\n",
        "context = lisp.initial_environment()\n",
        "for object in objects:\n",
        "  target = lisp.norm(object, context)\n",
        "  print(target)"
      ],
      "metadata": {
        "id": "RX_VV6klnrG_"
      },
      "execution_count": null,
      "outputs": []
    },
    {
      "cell_type": "markdown",
      "source": [
        "# 🐟 Resonators"
      ],
      "metadata": {
        "id": "keY9S-0jHYi5"
      }
    },
    {
      "cell_type": "code",
      "source": [],
      "metadata": {
        "id": "fN9gGe9NzWrN"
      },
      "execution_count": null,
      "outputs": []
    },
    {
      "cell_type": "markdown",
      "source": [
        "# 🗑 Junk"
      ],
      "metadata": {
        "id": "EsQaSWJuP2OY"
      }
    }
  ]
}