{
  "nbformat": 4,
  "nbformat_minor": 0,
  "metadata": {
    "colab": {
      "private_outputs": true,
      "provenance": [],
      "toc_visible": true
    },
    "kernelspec": {
      "name": "python3",
      "display_name": "Python 3"
    },
    "language_info": {
      "name": "python"
    }
  },
  "cells": [
    {
      "cell_type": "markdown",
      "source": [
        "# Agents\n",
        "\n",
        "🪙 Stochastic resonance is the use of an implicit function representation provided by random effects (such as biased coins) to perform non-algorithmic computation, reminiscent of Szilard's engine. Resonators are a generative model architecture that combines this principle with particle swarms to work with Lisp, Python, lambda calculus and so on in analogy to the way Transformers work with tensors.\n",
        "\n",
        "So, what's a resonator? Basically, you can do program evolution with a stack of \"genetic transformer\" blocks, called \"resonators\", each containing fitness, crossover, and mutation operations. attach weighted coins to race all of the operations and train this with a particle swarm on data showing the evolutionary paths you want.\n",
        "\n",
        "You can increase representational capacity by expressing conditional dependence between the weights. So per block there are F fitness weights, FxC crossover weights, FxCxM mutation weights representing the probability that op will be next in line during its race, along with 1 residual.\n",
        "\n",
        "The crossovers combine several states in to one and the mutations transform one state in to several. This acts as a type of information bottleneck and provides an analogy to continuity in that it \"smooths out\" the details between states.\n",
        "\n",
        "The reason genetic programming never really took off but neural nets did is because genetic programming was just a bunch of random operators trying to satisfy a loss. You gotta tune the operators first by learning a representation from data and then you'll have \"intelligent mutations\" that can do goal conditioned evolution."
      ],
      "metadata": {
        "id": "HpDK_7uv3clU"
      }
    },
    {
      "cell_type": "code",
      "source": [
        "!sudo apt-get install libcairo2-dev\n",
        "!pip install git+https://github.com/0xmaddie/0xmaddie.git#subdirectory=studio\n",
        "\n",
        "import studio.engine.lisp as lisp\n",
        "import studio.media as media\n",
        "import studio.web as web"
      ],
      "metadata": {
        "id": "xxGFnoQAfBZZ"
      },
      "execution_count": null,
      "outputs": []
    },
    {
      "cell_type": "code",
      "source": [
        "def local_environment():\n",
        "  env = lisp.initial_environment()\n",
        "  web.install_lisp_packages(env)\n",
        "  gemini.install_lisp_packages(env)\n",
        "  return env"
      ],
      "metadata": {
        "id": "mOYs_nqTZJKY"
      },
      "execution_count": null,
      "outputs": []
    },
    {
      "cell_type": "code",
      "source": [
        "agent_source = f'''\n",
        "defmacro\n",
        "defcookie\n",
        "\n",
        "(coroutine ((pairs...))\n",
        "  (body...))\n",
        "\n",
        "  (yield (fn (k) (k 5))))\n",
        "'''.strip()"
      ],
      "metadata": {
        "id": "7QjwVCJW9D0C"
      },
      "execution_count": null,
      "outputs": []
    },
    {
      "cell_type": "code",
      "source": [
        "env = local_environment()\n",
        "objects = lisp.read(source)\n",
        "for object in objects:\n",
        "  target = lisp.norm(object, env)\n",
        "  print(target)"
      ],
      "metadata": {
        "id": "RX_VV6klnrG_"
      },
      "execution_count": null,
      "outputs": []
    }
  ]
}