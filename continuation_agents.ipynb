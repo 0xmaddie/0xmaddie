{
  "nbformat": 4,
  "nbformat_minor": 0,
  "metadata": {
    "colab": {
      "private_outputs": true,
      "provenance": [],
      "toc_visible": true
    },
    "kernelspec": {
      "name": "python3",
      "display_name": "Python 3"
    },
    "language_info": {
      "name": "python"
    }
  },
  "cells": [
    {
      "cell_type": "markdown",
      "source": [
        "# 🧬 Continuation-passing style for digital agents"
      ],
      "metadata": {
        "id": "HpDK_7uv3clU"
      }
    },
    {
      "cell_type": "code",
      "source": [
        "!sudo apt-get install libcairo2-dev\n",
        "!pip install git+https://github.com/0xmaddie/0xmaddie.git#subdirectory=studio\n",
        "\n",
        "import studio.lisp as lisp\n",
        "import studio.resonators as rx\n",
        "import studio.media as media\n",
        "import studio.web as web\n",
        "import studio.llama as llama\n",
        "import studio.gemini as gemini"
      ],
      "metadata": {
        "id": "xxGFnoQAfBZZ"
      },
      "execution_count": null,
      "outputs": []
    },
    {
      "cell_type": "code",
      "source": [
        "def initial_environment():\n",
        "  env = lisp.initial_environment()\n",
        "  web.install_lisp_packages(env)\n",
        "  gemini.install_lisp_packages(env)\n",
        "  return env"
      ],
      "metadata": {
        "id": "mOYs_nqTZJKY"
      },
      "execution_count": null,
      "outputs": []
    },
    {
      "cell_type": "code",
      "source": [
        "env = initial_environment()\n",
        "agent_source = f'''\n",
        "(defn (agent-init args)\n",
        "  \"Start an agent with the specified arguments.\"\n",
        "  )\n",
        "'''.strip()\n",
        "objects = lisp.read(source)\n",
        "for object in objects:\n",
        "  target = lisp.norm(object, env)\n",
        "  print(target)"
      ],
      "metadata": {
        "id": "RX_VV6klnrG_"
      },
      "execution_count": null,
      "outputs": []
    }
  ]
}