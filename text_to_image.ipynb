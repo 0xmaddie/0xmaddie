{
  "nbformat": 4,
  "nbformat_minor": 0,
  "metadata": {
    "colab": {
      "private_outputs": true,
      "provenance": [],
      "gpuType": "T4"
    },
    "kernelspec": {
      "name": "python3",
      "display_name": "Python 3"
    },
    "language_info": {
      "name": "python"
    },
    "accelerator": "GPU"
  },
  "cells": [
    {
      "cell_type": "code",
      "execution_count": null,
      "metadata": {
        "id": "j2YjAPxXlktY"
      },
      "outputs": [],
      "source": [
        "!sudo apt-get install libcairo2-dev\n",
        "!pip install git+https://github.com/0xmaddie/0xmaddie.git#subdirectory=sweetp/python\n",
        "from sweetp.model.playground import Playground\n",
        "import torch"
      ]
    },
    {
      "cell_type": "code",
      "source": [
        "model = Playground()"
      ],
      "metadata": {
        "id": "eQl1KNESlt0q"
      },
      "execution_count": null,
      "outputs": []
    },
    {
      "cell_type": "code",
      "source": [
        "del images\n",
        "torch.cuda.empty_cache()"
      ],
      "metadata": {
        "id": "bbGLM97_vYcF"
      },
      "execution_count": null,
      "outputs": []
    },
    {
      "cell_type": "code",
      "source": [
        "images = model('''\n",
        "'''.strip())\n",
        "for image in images:\n",
        "  display(image)"
      ],
      "metadata": {
        "id": "no9WY2oknw33"
      },
      "execution_count": null,
      "outputs": []
    }
  ]
}